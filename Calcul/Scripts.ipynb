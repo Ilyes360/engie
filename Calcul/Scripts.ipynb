{
 "cells": [
  {
   "cell_type": "code",
   "execution_count": 9,
   "metadata": {},
   "outputs": [],
   "source": [
    "import pandas as pd\n",
    "import re"
   ]
  },
  {
   "cell_type": "code",
   "execution_count": 10,
   "metadata": {},
   "outputs": [
    {
     "name": "stdout",
     "output_type": "stream",
     "text": [
      "            id      screen_name                name  \\\n",
      "0  1,72517E+18       gptournier  Guillaume Tournier   \n",
      "1  1,72868E+18       jouanetwan      Jouan Etwan 💚💛   \n",
      "2  1,73784E+18  vince_thouvenin           thouvenin   \n",
      "3  1,74049E+18   BiduleAnatheme     Anathème Bidule   \n",
      "4  1,74068E+18  vince_thouvenin           thouvenin   \n",
      "\n",
      "                  created_at  \\\n",
      "0  2023-11-16 15:13:18+00:00   \n",
      "1  2023-11-26 07:34:34+00:00   \n",
      "2  2023-12-21 14:27:08+00:00   \n",
      "3  2023-12-28 21:32:58+00:00   \n",
      "4  2023-12-29 10:08:10+00:00   \n",
      "\n",
      "                                           full_text  hour  text_length  \\\n",
      "0  ENGIEpartFR n6 mois dattente et tjs aucune ré...    15          282   \n",
      "1  Bonjour ENGIEpartSAV , lappli monpilotageelec ...     7          155   \n",
      "2  ENGIEpartFR mon syndic de copropriété sergic...    14          219   \n",
      "3  ENGIEpartSAV vous envisagez de vous occuper de...    21          267   \n",
      "4  ENGIEpartSAV retour de votre technicien vous n...    10          240   \n",
      "\n",
      "   contains_engie  \n",
      "0            True  \n",
      "1            True  \n",
      "2            True  \n",
      "3            True  \n",
      "4            True  \n"
     ]
    }
   ],
   "source": [
    "df = pd.read_csv('../Data/data_cleaned.csv', sep=None, engine='python', encoding='utf-8-sig')\n",
    "print(df.head())"
   ]
  },
  {
   "cell_type": "code",
   "execution_count": 11,
   "metadata": {},
   "outputs": [
    {
     "name": "stdout",
     "output_type": "stream",
     "text": [
      "Nombre de tweets par jour: day\n",
      "2023-11-16    1\n",
      "2023-11-26    1\n",
      "2023-12-21    1\n",
      "2023-12-28    1\n",
      "2023-12-29    4\n",
      "             ..\n",
      "2025-02-24    9\n",
      "2025-02-25    3\n",
      "2025-02-26    3\n",
      "2025-03-03    5\n",
      "2025-03-04    1\n",
      "Length: 292, dtype: int64\n",
      "Nombre de tweets par semaine: week\n",
      "2023-11-13/2023-11-19     1\n",
      "2023-11-20/2023-11-26     1\n",
      "2023-12-18/2023-12-24     1\n",
      "2023-12-25/2023-12-31     6\n",
      "2024-01-01/2024-01-07    12\n",
      "                         ..\n",
      "2025-02-03/2025-02-09     3\n",
      "2025-02-10/2025-02-16     8\n",
      "2025-02-17/2025-02-23    11\n",
      "2025-02-24/2025-03-02    15\n",
      "2025-03-03/2025-03-09     6\n",
      "Freq: W-SUN, Length: 66, dtype: int64\n",
      "Nombre de tweets par mois: month\n",
      "2023-11     2\n",
      "2023-12     7\n",
      "2024-01    60\n",
      "2024-02    57\n",
      "2024-03    55\n",
      "2024-04    41\n",
      "2024-05    41\n",
      "2024-06    22\n",
      "2024-07    28\n",
      "2024-08    28\n",
      "2024-09    24\n",
      "2024-10    40\n",
      "2024-11    43\n",
      "2024-12    44\n",
      "2025-01    41\n",
      "2025-02    37\n",
      "2025-03     6\n",
      "Freq: M, dtype: int64\n"
     ]
    },
    {
     "name": "stderr",
     "output_type": "stream",
     "text": [
      "C:\\Users\\rakot\\AppData\\Local\\Temp\\ipykernel_20460\\2818799601.py:6: UserWarning: Converting to PeriodArray/Index representation will drop timezone information.\n",
      "  df[\"week\"] = df[\"created_at\"].dt.to_period('W')\n",
      "C:\\Users\\rakot\\AppData\\Local\\Temp\\ipykernel_20460\\2818799601.py:7: UserWarning: Converting to PeriodArray/Index representation will drop timezone information.\n",
      "  df[\"month\"] = df[\"created_at\"].dt.to_period('M')\n"
     ]
    }
   ],
   "source": [
    "# Convertir 'created_at' en format datetime\n",
    "df[\"created_at\"] = pd.to_datetime(df[\"created_at\"], errors=\"coerce\")\n",
    "\n",
    "# Ajouter des colonnes pour le jour, la semaine et le mois\n",
    "df[\"day\"] = df[\"created_at\"].dt.date\n",
    "df[\"week\"] = df[\"created_at\"].dt.to_period('W')\n",
    "df[\"month\"] = df[\"created_at\"].dt.to_period('M')\n",
    "\n",
    "# Calcul du nombre de tweets par jour, semaine et mois\n",
    "tweets_par_jour = df.groupby(\"day\").size()\n",
    "tweets_par_semaine = df.groupby(\"week\").size()\n",
    "tweets_par_mois = df.groupby(\"month\").size()\n",
    "\n",
    "print(\"Nombre de tweets par jour:\", tweets_par_jour)\n",
    "print(\"Nombre de tweets par semaine:\", tweets_par_semaine)\n",
    "print(\"Nombre de tweets par mois:\", tweets_par_mois)\n"
   ]
  },
  {
   "cell_type": "code",
   "execution_count": 12,
   "metadata": {},
   "outputs": [
    {
     "name": "stdout",
     "output_type": "stream",
     "text": [
      "Mentions de comptes Engie par jour: day\n",
      "2023-11-16    1\n",
      "2023-11-26    1\n",
      "2023-12-21    1\n",
      "2023-12-28    1\n",
      "2023-12-29    4\n",
      "             ..\n",
      "2025-02-24    9\n",
      "2025-02-25    5\n",
      "2025-02-26    3\n",
      "2025-03-03    6\n",
      "2025-03-04    2\n",
      "Name: mentions_engie, Length: 292, dtype: int64\n"
     ]
    }
   ],
   "source": [
    "\n",
    "df[\"mentions_engie\"] = df[\"full_text\"].apply(lambda x: len(re.findall(r'ENGIE\\w+', x)))\n",
    "\n",
    "mentions_par_jour = df.groupby(\"day\")[\"mentions_engie\"].sum()\n",
    "\n",
    "print(\"Mentions de comptes Engie par jour:\", mentions_par_jour)\n"
   ]
  },
  {
   "cell_type": "code",
   "execution_count": 13,
   "metadata": {},
   "outputs": [
    {
     "name": "stdout",
     "output_type": "stream",
     "text": [
      "Tweets critiques par jour: day\n",
      "2023-11-16    0\n",
      "2023-11-26    0\n",
      "2023-12-21    1\n",
      "2023-12-28    0\n",
      "2023-12-29    0\n",
      "             ..\n",
      "2025-02-24    0\n",
      "2025-02-25    0\n",
      "2025-02-26    0\n",
      "2025-03-03    0\n",
      "2025-03-04    0\n",
      "Name: tweet_critique, Length: 292, dtype: int64\n"
     ]
    }
   ],
   "source": [
    "\n",
    "mots_cles = [\"délai\", \"panne\", \"urgence\", \"scandale\"]\n",
    "\n",
    "def contient_mots_cles(tweet):\n",
    "    return any(mot in tweet.lower() for mot in mots_cles)\n",
    "\n",
    "# Appliquer la fonction pour détecter les tweets avec des mots-clés critiques\n",
    "df[\"tweet_critique\"] = df[\"full_text\"].apply(contient_mots_cles)\n",
    "\n",
    "tweets_critique_par_jour = df.groupby(\"day\")[\"tweet_critique\"].sum()\n",
    "\n",
    "print(\"Tweets critiques par jour:\", tweets_critique_par_jour)\n"
   ]
  },
  {
   "cell_type": "code",
   "execution_count": 14,
   "metadata": {},
   "outputs": [],
   "source": [
    "resultats = pd.DataFrame({\n",
    "    \"tweets_par_jour\": tweets_par_jour,\n",
    "    \"tweets_par_semaine\": tweets_par_semaine.reindex(tweets_par_jour.index, fill_value=0),\n",
    "    \"tweets_par_mois\": tweets_par_mois.reindex(tweets_par_jour.index, fill_value=0),\n",
    "    \"mentions_engie_par_jour\": mentions_par_jour,\n",
    "    \"tweets_critique_par_jour\": tweets_critique_par_jour\n",
    "})\n",
    "\n",
    "resultats.to_csv('../Data/resultats_analyse_tweets.csv', index=True)"
   ]
  },
  {
   "cell_type": "code",
   "execution_count": 15,
   "metadata": {},
   "outputs": [
    {
     "name": "stdout",
     "output_type": "stream",
     "text": [
      "Index(['id', 'screen_name', 'name', 'created_at', 'full_text', 'hour',\n",
      "       'text_length', 'contains_engie'],\n",
      "      dtype='object')\n",
      "Index(['day', 'tweets_par_jour', 'tweets_par_semaine', 'tweets_par_mois',\n",
      "       'mentions_engie_par_jour', 'tweets_critique_par_jour'],\n",
      "      dtype='object')\n",
      "            id      screen_name                name                created_at  \\\n",
      "0  1,72517E+18       gptournier  Guillaume Tournier 2023-11-16 15:13:18+00:00   \n",
      "1  1,72868E+18       jouanetwan      Jouan Etwan 💚💛 2023-11-26 07:34:34+00:00   \n",
      "2  1,73784E+18  vince_thouvenin           thouvenin 2023-12-21 14:27:08+00:00   \n",
      "3  1,74049E+18   BiduleAnatheme     Anathème Bidule 2023-12-28 21:32:58+00:00   \n",
      "4  1,74068E+18  vince_thouvenin           thouvenin 2023-12-29 10:08:10+00:00   \n",
      "\n",
      "                                           full_text  hour  text_length  \\\n",
      "0  ENGIEpartFR n6 mois dattente et tjs aucune ré...    15          282   \n",
      "1  Bonjour ENGIEpartSAV , lappli monpilotageelec ...     7          155   \n",
      "2  ENGIEpartFR mon syndic de copropriété sergic...    14          219   \n",
      "3  ENGIEpartSAV vous envisagez de vous occuper de...    21          267   \n",
      "4  ENGIEpartSAV retour de votre technicien vous n...    10          240   \n",
      "\n",
      "   contains_engie         day  tweets_par_jour  tweets_par_semaine  \\\n",
      "0            True  2023-11-16                1                   0   \n",
      "1            True  2023-11-26                1                   0   \n",
      "2            True  2023-12-21                1                   0   \n",
      "3            True  2023-12-28                1                   0   \n",
      "4            True  2023-12-29                4                   0   \n",
      "\n",
      "   tweets_par_mois  mentions_engie_par_jour  tweets_critique_par_jour  \n",
      "0                0                        1                         0  \n",
      "1                0                        1                         0  \n",
      "2                0                        1                         1  \n",
      "3                0                        1                         0  \n",
      "4                0                        4                         0  \n",
      "Les résultats ont été ajoutés et sauvegardés dans 'data_cleaned_with_analysis.csv'.\n"
     ]
    }
   ],
   "source": [
    "\n",
    "df1 = pd.read_csv('resultats_analyse_tweets.csv')\n",
    "df2 = pd.read_csv('../Data/data_cleaned.csv')\n",
    "\n",
    "print(df2.columns)\n",
    "print(df1.columns)\n",
    "\n",
    "df2[\"created_at\"] = pd.to_datetime(df2[\"created_at\"], errors=\"coerce\")\n",
    "df2[\"day\"] = df2[\"created_at\"].dt.date\n",
    "\n",
    "df2[\"day\"] = pd.to_datetime(df2[\"day\"]).dt.date\n",
    "df1[\"day\"] = pd.to_datetime(df1[\"day\"]).dt.date\n",
    "\n",
    "df_final = pd.merge(df2, df1, on='day', how='left')\n",
    "\n",
    "print(df_final.head())\n",
    "df.drop(columns=['day'], inplace=True)\n",
    "\n",
    "\n",
    "df_final.to_csv('../Data/data_cleaned_with_analysis.csv', index=False)\n",
    "\n",
    "print(\"Les résultats ont été ajoutés et sauvegardés dans 'data_cleaned_with_analysis.csv'.\")"
   ]
  }
 ],
 "metadata": {
  "kernelspec": {
   "display_name": "Python 3",
   "language": "python",
   "name": "python3"
  },
  "language_info": {
   "codemirror_mode": {
    "name": "ipython",
    "version": 3
   },
   "file_extension": ".py",
   "mimetype": "text/x-python",
   "name": "python",
   "nbconvert_exporter": "python",
   "pygments_lexer": "ipython3",
   "version": "3.12.2"
  }
 },
 "nbformat": 4,
 "nbformat_minor": 2
}
