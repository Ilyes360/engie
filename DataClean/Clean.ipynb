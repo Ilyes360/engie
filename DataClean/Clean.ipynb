{
 "cells": [
  {
   "cell_type": "code",
   "execution_count": 26,
   "metadata": {},
   "outputs": [],
   "source": [
    "import pandas as pd\n",
    "import re\n",
    "import unicodedata"
   ]
  },
  {
   "cell_type": "code",
   "execution_count": 27,
   "metadata": {},
   "outputs": [
    {
     "name": "stdout",
     "output_type": "stream",
     "text": [
      "            id      screen_name                name  \\\n",
      "0  1,72517E+18       gptournier  Guillaume Tournier   \n",
      "1  1,72868E+18       jouanetwan      Jouan Etwan 💚💛   \n",
      "2  1,73784E+18  vince_thouvenin           thouvenin   \n",
      "3  1,74049E+18   BiduleAnatheme     Anathème Bidule   \n",
      "4  1,74068E+18  vince_thouvenin           thouvenin   \n",
      "\n",
      "                   created_at  \\\n",
      "0  2023-11-16 16:13:18 +01:00   \n",
      "1  2023-11-26 08:34:34 +01:00   \n",
      "2  2023-12-21 15:27:08 +01:00   \n",
      "3  2023-12-28 22:32:58 +01:00   \n",
      "4  2023-12-29 11:08:10 +01:00   \n",
      "\n",
      "                                           full_text  \n",
      "0  @ENGIEpartFR \\n6 mois d’attente et tjs aucune ...  \n",
      "1  Bonjour @ENGIEpartSAV , l’appli #monpilotageel...  \n",
      "2  @ENGIEpartFR mon syndic de copropriété sergic ...  \n",
      "3  @ENGIEpartSAV vous envisagez de vous occuper d...  \n",
      "4  @ENGIEpartSAV retour de votre technicien \"vous...  \n"
     ]
    }
   ],
   "source": [
    "df = pd.read_csv('../Data/filtered_tweets_engie.csv', sep=None, engine='python', encoding='utf-8-sig')\n",
    "print(df.head())"
   ]
  },
  {
   "cell_type": "code",
   "execution_count": 28,
   "metadata": {},
   "outputs": [
    {
     "name": "stderr",
     "output_type": "stream",
     "text": [
      "C:\\Users\\rakot\\AppData\\Local\\Temp\\ipykernel_16176\\1597404331.py:2: FutureWarning: In a future version of pandas, parsing datetimes with mixed time zones will raise an error unless `utc=True`. Please specify `utc=True` to opt in to the new behaviour and silence this warning. To create a `Series` with mixed offsets and `object` dtype, please use `apply` and `datetime.datetime.strptime`\n",
      "  df[\"created_at\"] = pd.to_datetime(df[\"created_at\"], errors=\"coerce\")\n"
     ]
    }
   ],
   "source": [
    "# convertion de la date en datime\n",
    "df[\"created_at\"] = pd.to_datetime(df[\"created_at\"], errors=\"coerce\")"
   ]
  },
  {
   "cell_type": "code",
   "execution_count": 29,
   "metadata": {},
   "outputs": [],
   "source": [
    "# Suppression des emojis dans le full text\n",
    "def remove_emojis(text):\n",
    "    return text.encode(\"ascii\", \"ignore\").decode(\"ascii\")"
   ]
  },
  {
   "cell_type": "code",
   "execution_count": 30,
   "metadata": {},
   "outputs": [
    {
     "name": "stdout",
     "output_type": "stream",
     "text": [
      "            id      screen_name                name  \\\n",
      "0  1,72517E+18       gptournier  Guillaume Tournier   \n",
      "1  1,72868E+18       jouanetwan      Jouan Etwan 💚💛   \n",
      "2  1,73784E+18  vince_thouvenin           thouvenin   \n",
      "3  1,74049E+18   BiduleAnatheme     Anathème Bidule   \n",
      "4  1,74068E+18  vince_thouvenin           thouvenin   \n",
      "\n",
      "                  created_at  \\\n",
      "0  2023-11-16 16:13:18+01:00   \n",
      "1  2023-11-26 08:34:34+01:00   \n",
      "2  2023-12-21 15:27:08+01:00   \n",
      "3  2023-12-28 22:32:58+01:00   \n",
      "4  2023-12-29 11:08:10+01:00   \n",
      "\n",
      "                                           full_text  \n",
      "0  @ENGIEpartFR \\n6 mois d’attente et tjs aucune ...  \n",
      "1  Bonjour @ENGIEpartSAV , l’appli #monpilotageel...  \n",
      "2  @ENGIEpartFR mon syndic de copropriété sergic ...  \n",
      "3  @ENGIEpartSAV vous envisagez de vous occuper d...  \n",
      "4  @ENGIEpartSAV retour de votre technicien \"vous...  \n"
     ]
    }
   ],
   "source": [
    "# suppression des espaces ou url inutiles\n",
    "print(df.head())\n",
    "def clean_text(text):\n",
    "    if pd.isna(text):\n",
    "        return \"\"\n",
    "    \n",
    "    text = text.strip()\n",
    "    text = re.sub(r\"@\\w+\", \"\", text)\n",
    "    text = re.sub(r\"http\\S+\", \"\", text)\n",
    "    text = re.sub(r\"\\n\", \" \", text)\n",
    "    text = remove_emojis(text)\n",
    "    text = re.sub(r\"[^a-zA-ZÀ-ÿ0-9.,'!? ]\", \"\", text)\n",
    "    text = re.sub(r\"\\s+\", \" \", text)\n",
    "    text = unicodedata.normalize(\"NFKD\", text)\n",
    "    return text.strip()\n",
    "\n",
    "df[\"full_text\"] = df[\"full_text\"].astype(str).apply(clean_text)\n"
   ]
  },
  {
   "cell_type": "code",
   "execution_count": 31,
   "metadata": {},
   "outputs": [
    {
     "name": "stdout",
     "output_type": "stream",
     "text": [
      "            id      screen_name                name  \\\n",
      "0  1,72517E+18       gptournier  Guillaume Tournier   \n",
      "1  1,72868E+18       jouanetwan      Jouan Etwan 💚💛   \n",
      "2  1,73784E+18  vince_thouvenin           thouvenin   \n",
      "3  1,74049E+18   BiduleAnatheme     Anathème Bidule   \n",
      "4  1,74068E+18  vince_thouvenin           thouvenin   \n",
      "\n",
      "                  created_at  \\\n",
      "0  2023-11-16 16:13:18+01:00   \n",
      "1  2023-11-26 08:34:34+01:00   \n",
      "2  2023-12-21 15:27:08+01:00   \n",
      "3  2023-12-28 22:32:58+01:00   \n",
      "4  2023-12-29 11:08:10+01:00   \n",
      "\n",
      "                                           full_text  \n",
      "0  n6 mois dattente et tjs aucune rponse de lagen...  \n",
      "1  Bonjour , lappli monpilotageelec bug depuis hi...  \n",
      "2  mon syndic de coproprit sergic en est vous met...  \n",
      "3  vous envisagez de vous occuper de l'agence fan...  \n",
      "4  retour de votre technicien vous n'avez pas d'e...  \n"
     ]
    }
   ],
   "source": [
    "df = df[df[\"full_text\"] != \"\"]\n",
    "\n",
    "# Suppression des doublons\n",
    "df = df.drop_duplicates(subset=[\"id\", \"full_text\"])\n",
    "\n",
    "# Sauvegarde du fichier nettoyer\n",
    "df.to_csv(\"fichier_nettoye.csv\", sep=\";\", index=False, encoding=\"utf-8-sig\")\n",
    "\n",
    "print(df.head())"
   ]
  }
 ],
 "metadata": {
  "kernelspec": {
   "display_name": "Python 3",
   "language": "python",
   "name": "python3"
  },
  "language_info": {
   "codemirror_mode": {
    "name": "ipython",
    "version": 3
   },
   "file_extension": ".py",
   "mimetype": "text/x-python",
   "name": "python",
   "nbconvert_exporter": "python",
   "pygments_lexer": "ipython3",
   "version": "3.12.2"
  }
 },
 "nbformat": 4,
 "nbformat_minor": 2
}
