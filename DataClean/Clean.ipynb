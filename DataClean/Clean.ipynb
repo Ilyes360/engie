{
 "cells": [
  {
   "cell_type": "code",
   "execution_count": 1,
   "metadata": {},
   "outputs": [],
   "source": [
    "import pandas as pd\n",
    "import re\n",
    "import unicodedata"
   ]
  },
  {
   "cell_type": "code",
   "execution_count": 2,
   "metadata": {},
   "outputs": [
    {
     "name": "stdout",
     "output_type": "stream",
     "text": [
      "            id      screen_name                name  \\\n",
      "0  1,72517E+18       gptournier  Guillaume Tournier   \n",
      "1  1,72868E+18       jouanetwan      Jouan Etwan 💚💛   \n",
      "2  1,73784E+18  vince_thouvenin           thouvenin   \n",
      "3  1,74049E+18   BiduleAnatheme     Anathème Bidule   \n",
      "4  1,74068E+18  vince_thouvenin           thouvenin   \n",
      "\n",
      "                   created_at  \\\n",
      "0  2023-11-16 16:13:18 +01:00   \n",
      "1  2023-11-26 08:34:34 +01:00   \n",
      "2  2023-12-21 15:27:08 +01:00   \n",
      "3  2023-12-28 22:32:58 +01:00   \n",
      "4  2023-12-29 11:08:10 +01:00   \n",
      "\n",
      "                                           full_text  \n",
      "0  @ENGIEpartFR \\n6 mois d’attente et tjs aucune ...  \n",
      "1  Bonjour @ENGIEpartSAV , l’appli #monpilotageel...  \n",
      "2  @ENGIEpartFR mon syndic de copropriété sergic ...  \n",
      "3  @ENGIEpartSAV vous envisagez de vous occuper d...  \n",
      "4  @ENGIEpartSAV retour de votre technicien \"vous...  \n"
     ]
    }
   ],
   "source": [
    "df = pd.read_csv('../Data/filtered_tweets_engie.csv', sep=None, engine='python', encoding='utf-8-sig')\n",
    "print(df.head())"
   ]
  },
  {
   "cell_type": "code",
   "execution_count": 3,
   "metadata": {},
   "outputs": [],
   "source": [
    "def remove_emojis(text):\n",
    "    emoji_pattern = re.compile(\"[\\U00010000-\\U0010ffff]\", flags=re.UNICODE)\n",
    "    return emoji_pattern.sub(r'', text)"
   ]
  },
  {
   "cell_type": "code",
   "execution_count": 4,
   "metadata": {},
   "outputs": [],
   "source": [
    "def clean_text(text):\n",
    "    if pd.isna(text):\n",
    "        return \"\"\n",
    "    \n",
    "    text = text.strip()\n",
    "    text = re.sub(r\"http\\S+\", \"\", text)\n",
    "    text = re.sub(r\"\\n\", \" \", text)\n",
    "    text = remove_emojis(text)\n",
    "    text = re.sub(r\"[^a-zA-ZÀ-ÿ0-9.,'!? ]\", \"\", text)\n",
    "    text = re.sub(r\"\\s+\", \" \", text)\n",
    "    text = unicodedata.normalize(\"NFKD\", text)\n",
    "    \n",
    "    return text.strip()"
   ]
  },
  {
   "cell_type": "code",
   "execution_count": 5,
   "metadata": {},
   "outputs": [
    {
     "name": "stdout",
     "output_type": "stream",
     "text": [
      "            id      screen_name                name          created_at  \\\n",
      "0  1,72517E+18       gptournier  Guillaume Tournier 2023-11-16 15:13:18   \n",
      "1  1,72868E+18       jouanetwan      Jouan Etwan 💚💛 2023-11-26 07:34:34   \n",
      "2  1,73784E+18  vince_thouvenin           thouvenin 2023-12-21 14:27:08   \n",
      "3  1,74049E+18   BiduleAnatheme     Anathème Bidule 2023-12-28 21:32:58   \n",
      "4  1,74068E+18  vince_thouvenin           thouvenin 2023-12-29 10:08:10   \n",
      "\n",
      "                                           full_text  hour  text_length  \\\n",
      "0  ENGIEpartFR n6 mois dattente et tjs aucune ré...    15          282   \n",
      "1  Bonjour ENGIEpartSAV , lappli monpilotageelec ...     7          155   \n",
      "2  ENGIEpartFR mon syndic de copropriété sergic...    14          219   \n",
      "3  ENGIEpartSAV vous envisagez de vous occuper de...    21          267   \n",
      "4  ENGIEpartSAV retour de votre technicien vous n...    10          240   \n",
      "\n",
      "   contains_engie  \n",
      "0            True  \n",
      "1            True  \n",
      "2            True  \n",
      "3            True  \n",
      "4            True  \n"
     ]
    }
   ],
   "source": [
    "df[\"full_text\"] = df[\"full_text\"].astype(str).apply(clean_text)\n",
    "\n",
    "df['created_at'] = pd.to_datetime(df['created_at'], errors='coerce', utc=True)\n",
    "\n",
    "df['created_at'] = df['created_at'].dt.tz_convert(None)\n",
    "\n",
    "df['hour'] = df['created_at'].dt.hour\n",
    "\n",
    "df['text_length'] = df['full_text'].apply(len)\n",
    "\n",
    "df['contains_engie'] = df['full_text'].apply(lambda x: 'ENGIE' in x)\n",
    "\n",
    "print(df.head())"
   ]
  },
  {
   "cell_type": "code",
   "execution_count": 6,
   "metadata": {},
   "outputs": [],
   "source": [
    "df.to_csv('../Data/data_cleaned.csv', index=False)"
   ]
  }
 ],
 "metadata": {
  "kernelspec": {
   "display_name": "Python 3",
   "language": "python",
   "name": "python3"
  },
  "language_info": {
   "codemirror_mode": {
    "name": "ipython",
    "version": 3
   },
   "file_extension": ".py",
   "mimetype": "text/x-python",
   "name": "python",
   "nbconvert_exporter": "python",
   "pygments_lexer": "ipython3",
   "version": "3.12.2"
  }
 },
 "nbformat": 4,
 "nbformat_minor": 2
}
