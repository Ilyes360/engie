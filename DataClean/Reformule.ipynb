{
 "cells": [
  {
   "cell_type": "code",
   "execution_count": null,
   "metadata": {},
   "outputs": [],
   "source": [
    "import re\n",
    "import pandas as pd\n",
    "from spellchecker import SpellChecker\n",
    "\n",
    "# Fonction pour nettoyer le texte des tweets\n",
    "def nettoyer_texte(tweet):\n",
    "    # Suppression des URL\n",
    "    tweet = re.sub(r'http\\S+', '', tweet)\n",
    "    \n",
    "    \n",
    "    # Suppression des hashtags (peut être conservé si pertinent)\n",
    "    tweet = re.sub(r'#\\w+', '', tweet)\n",
    "    \n",
    "    # Suppression des caractères spéciaux inutiles\n",
    "    tweet = re.sub(r'[^\\w\\s]', '', tweet)\n",
    "    \n",
    "    # Remplacer les multiples espaces par un seul espace\n",
    "    tweet = re.sub(r'\\s+', ' ', tweet)\n",
    "    \n",
    "    return tweet\n",
    "\n",
    "# Fonction pour corriger les fautes d'orthographe\n",
    "def corriger_orthographe(tweet):\n",
    "    spell = SpellChecker(language='fr')  # Si tu travailles avec des tweets en français\n",
    "    words = tweet.split()\n",
    "    corrected_words = [spell.correction(word) for word in words]\n",
    "    return ' '.join(corrected_words)\n",
    "\n",
    "# Fonction pour reformuler les tweets\n",
    "def reformuler_tweet(tweet):\n",
    "    tweet = nettoyer_texte(tweet)\n",
    "    tweet = corriger_orthographe(tweet)\n",
    "    return tweet\n",
    "\n",
    "# Lire les données depuis le fichier CSV\n",
    "df = pd.read_csv('../Data/data_cleaned_with_analysis.csv')\n",
    "\n",
    "# Appliquer la reformulation sur les tweets dans la colonne 'full_text'\n",
    "df['cleaned_tweet'] = df['full_text'].apply(reformuler_tweet)\n",
    "\n",
    "# Enregistrer le fichier modifié dans un nouveau CSV\n",
    "df.to_csv('../Data/tweets_reformules.csv', index=False)\n",
    "\n",
    "# Affichage des tweets reformulés\n",
    "print(df[['full_text', 'cleaned_tweet']])\n"
   ]
  }
 ],
 "metadata": {
  "kernelspec": {
   "display_name": "Python 3",
   "language": "python",
   "name": "python3"
  },
  "language_info": {
   "name": "python",
   "version": "3.12.2"
  }
 },
 "nbformat": 4,
 "nbformat_minor": 2
}
